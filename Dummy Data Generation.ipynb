{
 "cells": [
  {
   "cell_type": "markdown",
   "metadata": {},
   "source": [
    "<h2> Dummy Data Generation </h2>"
   ]
  },
  {
   "cell_type": "code",
   "execution_count": 1,
   "metadata": {},
   "outputs": [],
   "source": [
    "import numpy as np\n",
    "import pandas as pd\n",
    "import matplotlib.pyplot as plt\n",
    "from mpl_toolkits.mplot3d import axes3d"
   ]
  },
  {
   "cell_type": "code",
   "execution_count": 2,
   "metadata": {},
   "outputs": [
    {
     "name": "stdout",
     "output_type": "stream",
     "text": [
      "[ 0  1  2  3  4  5  6  7  8  9 10]\n"
     ]
    }
   ],
   "source": [
    "t_array = np.arange(0,11,1) ##number of values per data set\n",
    "print(t_array) ##we use 11 here so that we can isolate initial values and have 10 data points following them.\n",
    "## you can change this if you like -- I just thought ten sets of ten was nice. "
   ]
  },
  {
   "cell_type": "code",
   "execution_count": 17,
   "metadata": {},
   "outputs": [],
   "source": [
    "##function which generates a solution to the logistic differential equation with given parameters. \n",
    "def logistic(y0, K, alpha): \n",
    "    S = np.zeros(11)\n",
    "    for t in range(0,11):\n",
    "        S[t] = K / (1 + ((K-y0)/y0)*np.exp(-alpha*(t)))\n",
    "    return S \n",
    "##function which adds noise to every element in X\n",
    "def noise(X, mu, sigma):\n",
    "    for n in range(0,11):\n",
    "        X[n] = X[n] + np.random.normal(mu,sigma)\n",
    "        if X[n] < 0: #ensures each value after noise is added is positive\n",
    "            X[n] = -X[n]\n",
    "    for n in range(1,11):\n",
    "        if X[n-1]>X[n]: ##just ensures our function is strictly increasing after ensuring positive values\n",
    "            a=X[n-1]\n",
    "            b=X[n]\n",
    "            X[n]=a\n",
    "            X[n-1]=b\n",
    "    return X"
   ]
  },
  {
   "cell_type": "code",
   "execution_count": 18,
   "metadata": {
    "scrolled": true
   },
   "outputs": [
    {
     "name": "stdout",
     "output_type": "stream",
     "text": [
      "            0          1           2           3          4          5  \\\n",
      "0    1.414439   0.424059    0.687287    0.936530   0.849115   1.214620   \n",
      "1    3.902928   1.780409    1.611359    3.200981   0.328054   1.652690   \n",
      "2    6.043954   8.609278    6.198226    8.122178   8.491730   8.114605   \n",
      "3   17.000091  16.218026   16.785001   17.574690  16.281097  16.904450   \n",
      "4   33.985063  35.667901   35.476750   33.820794  35.697126  36.890513   \n",
      "5   58.163352  58.577218   60.302541   59.225914  59.934390  58.814798   \n",
      "6   81.047337  79.172977   80.277973   77.019603  79.393235  81.423094   \n",
      "7   91.902768  91.804111   91.645664   93.694179  91.375945  90.715914   \n",
      "8   97.947473  95.855002   97.254766   97.355559  95.204559  96.107575   \n",
      "9   98.827405  97.088912   98.693268   97.371030  97.666254  99.489854   \n",
      "10  99.152911  99.945532  100.244405  100.332931  98.877892  99.067829   \n",
      "\n",
      "             6           7           8          9  \n",
      "0     1.475506    1.172821    2.597929   0.679312  \n",
      "1     3.865424    2.348911    0.836936   3.875796  \n",
      "2     5.643477    6.981112    7.960143   7.400753  \n",
      "3    18.019815   17.684952   16.791750  16.817529  \n",
      "4    35.789584   35.722502   36.772933  35.197457  \n",
      "5    59.524283   60.922758   60.687701  59.118881  \n",
      "6    78.762295   80.496295   79.826699  79.723924  \n",
      "7    90.624433   90.560004   92.888817  90.133336  \n",
      "8    96.345952   97.974550   95.818102  96.412240  \n",
      "9    98.179087   98.289489   97.563947  98.742903  \n",
      "10  100.138800  100.262510  100.349067  99.750289  \n"
     ]
    }
   ],
   "source": [
    "array = np.zeros((10,11))\n",
    "for n in range(0,10):\n",
    "    array[n,:] = noise(logistic(1,100,1),0,1)\n",
    "\n",
    "df = pd.DataFrame(array).T\n",
    "df.to_csv(\"...csv\") ##save this wherever you like! "
   ]
  }
 ],
 "metadata": {
  "kernelspec": {
   "display_name": "Python 3 (ipykernel)",
   "language": "python",
   "name": "python3"
  },
  "language_info": {
   "codemirror_mode": {
    "name": "ipython",
    "version": 3
   },
   "file_extension": ".py",
   "mimetype": "text/x-python",
   "name": "python",
   "nbconvert_exporter": "python",
   "pygments_lexer": "ipython3",
   "version": "3.8.5"
  }
 },
 "nbformat": 4,
 "nbformat_minor": 4
}
